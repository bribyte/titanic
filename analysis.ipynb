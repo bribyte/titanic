{
 "cells": [
  {
   "cell_type": "markdown",
   "metadata": {},
   "source": [
    "# Analysis of the Titanic"
   ]
  },
  {
   "cell_type": "markdown",
   "metadata": {},
   "source": [
    "In this first section we are going to conduct an an exploratory data analysis of the titanic dataset. \n",
    "\n",
    "The goal is to understand the data and identify patterns and insights that can be used to answer questions about the passengers on board of the titanic."
   ]
  },
  {
   "cell_type": "markdown",
   "metadata": {},
   "source": [
    "## Importing Required Libraries"
   ]
  },
  {
   "cell_type": "code",
   "execution_count": 1,
   "metadata": {},
   "outputs": [],
   "source": [
    "import warnings\n",
    "from typing import Dict, List, Union\n",
    "\n",
    "import matplotlib.pyplot as plt\n",
    "import pandas as pd\n",
    "import seaborn as sns\n",
    "\n",
    "warnings.filterwarnings('ignore')"
   ]
  },
  {
   "cell_type": "markdown",
   "metadata": {},
   "source": [
    "## Data Cleaning"
   ]
  },
  {
   "cell_type": "markdown",
   "metadata": {},
   "source": [
    "### First Visual Inspection"
   ]
  },
  {
   "cell_type": "code",
   "execution_count": 2,
   "metadata": {},
   "outputs": [
    {
     "data": {
      "text/html": [
       "<div>\n",
       "<style scoped>\n",
       "    .dataframe tbody tr th:only-of-type {\n",
       "        vertical-align: middle;\n",
       "    }\n",
       "\n",
       "    .dataframe tbody tr th {\n",
       "        vertical-align: top;\n",
       "    }\n",
       "\n",
       "    .dataframe thead th {\n",
       "        text-align: right;\n",
       "    }\n",
       "</style>\n",
       "<table border=\"1\" class=\"dataframe\">\n",
       "  <thead>\n",
       "    <tr style=\"text-align: right;\">\n",
       "      <th></th>\n",
       "      <th>PassengerId</th>\n",
       "      <th>Survived</th>\n",
       "      <th>Pclass</th>\n",
       "      <th>Name</th>\n",
       "      <th>Sex</th>\n",
       "      <th>Age</th>\n",
       "      <th>SibSp</th>\n",
       "      <th>Parch</th>\n",
       "      <th>Ticket</th>\n",
       "      <th>Fare</th>\n",
       "      <th>Cabin</th>\n",
       "      <th>Embarked</th>\n",
       "    </tr>\n",
       "  </thead>\n",
       "  <tbody>\n",
       "    <tr>\n",
       "      <th>0</th>\n",
       "      <td>1</td>\n",
       "      <td>0</td>\n",
       "      <td>3</td>\n",
       "      <td>Braund, Mr. Owen Harris</td>\n",
       "      <td>male</td>\n",
       "      <td>22.0</td>\n",
       "      <td>1</td>\n",
       "      <td>0</td>\n",
       "      <td>A/5 21171</td>\n",
       "      <td>7.2500</td>\n",
       "      <td>NaN</td>\n",
       "      <td>S</td>\n",
       "    </tr>\n",
       "    <tr>\n",
       "      <th>1</th>\n",
       "      <td>2</td>\n",
       "      <td>1</td>\n",
       "      <td>1</td>\n",
       "      <td>Cumings, Mrs. John Bradley (Florence Briggs Th...</td>\n",
       "      <td>female</td>\n",
       "      <td>38.0</td>\n",
       "      <td>1</td>\n",
       "      <td>0</td>\n",
       "      <td>PC 17599</td>\n",
       "      <td>71.2833</td>\n",
       "      <td>C85</td>\n",
       "      <td>C</td>\n",
       "    </tr>\n",
       "    <tr>\n",
       "      <th>2</th>\n",
       "      <td>3</td>\n",
       "      <td>1</td>\n",
       "      <td>3</td>\n",
       "      <td>Heikkinen, Miss. Laina</td>\n",
       "      <td>female</td>\n",
       "      <td>26.0</td>\n",
       "      <td>0</td>\n",
       "      <td>0</td>\n",
       "      <td>STON/O2. 3101282</td>\n",
       "      <td>7.9250</td>\n",
       "      <td>NaN</td>\n",
       "      <td>S</td>\n",
       "    </tr>\n",
       "    <tr>\n",
       "      <th>3</th>\n",
       "      <td>4</td>\n",
       "      <td>1</td>\n",
       "      <td>1</td>\n",
       "      <td>Futrelle, Mrs. Jacques Heath (Lily May Peel)</td>\n",
       "      <td>female</td>\n",
       "      <td>35.0</td>\n",
       "      <td>1</td>\n",
       "      <td>0</td>\n",
       "      <td>113803</td>\n",
       "      <td>53.1000</td>\n",
       "      <td>C123</td>\n",
       "      <td>S</td>\n",
       "    </tr>\n",
       "    <tr>\n",
       "      <th>4</th>\n",
       "      <td>5</td>\n",
       "      <td>0</td>\n",
       "      <td>3</td>\n",
       "      <td>Allen, Mr. William Henry</td>\n",
       "      <td>male</td>\n",
       "      <td>35.0</td>\n",
       "      <td>0</td>\n",
       "      <td>0</td>\n",
       "      <td>373450</td>\n",
       "      <td>8.0500</td>\n",
       "      <td>NaN</td>\n",
       "      <td>S</td>\n",
       "    </tr>\n",
       "  </tbody>\n",
       "</table>\n",
       "</div>"
      ],
      "text/plain": [
       "   PassengerId  Survived  Pclass  \\\n",
       "0            1         0       3   \n",
       "1            2         1       1   \n",
       "2            3         1       3   \n",
       "3            4         1       1   \n",
       "4            5         0       3   \n",
       "\n",
       "                                                Name     Sex   Age  SibSp  \\\n",
       "0                            Braund, Mr. Owen Harris    male  22.0      1   \n",
       "1  Cumings, Mrs. John Bradley (Florence Briggs Th...  female  38.0      1   \n",
       "2                             Heikkinen, Miss. Laina  female  26.0      0   \n",
       "3       Futrelle, Mrs. Jacques Heath (Lily May Peel)  female  35.0      1   \n",
       "4                           Allen, Mr. William Henry    male  35.0      0   \n",
       "\n",
       "   Parch            Ticket     Fare Cabin Embarked  \n",
       "0      0         A/5 21171   7.2500   NaN        S  \n",
       "1      0          PC 17599  71.2833   C85        C  \n",
       "2      0  STON/O2. 3101282   7.9250   NaN        S  \n",
       "3      0            113803  53.1000  C123        S  \n",
       "4      0            373450   8.0500   NaN        S  "
      ]
     },
     "execution_count": 2,
     "metadata": {},
     "output_type": "execute_result"
    }
   ],
   "source": [
    "# Read data\n",
    "df = pd.read_csv(\"data/Titanic-Dataset.csv\")\n",
    "df.head()"
   ]
  },
  {
   "cell_type": "markdown",
   "metadata": {},
   "source": [
    "According to [Thomas E. Cason](https://campus.lakeforest.edu/frank/FILES/MLFfiles/Bio150/Titanic/TitanicMETA.pdf) we have the following variable descriptions:\n",
    "\n",
    " - `Survived` => Survival (0 = No; 1 = Yes)\n",
    " - `Pclass` => Passenger Class (1 = 1st; 2 = 2nd; 3 = 3rd)\n",
    " - `Name` => Passenger Full Name\n",
    " - `Sex` => Male or Female ('male' and 'female')\n",
    " - `Age` => Age in years of the passenger\n",
    " - `SibSp` => Number of Siblings/Spouses Aboard\n",
    " - `Parch` => Number of Parents/Children Aboard\n",
    " - `Ticket` => Ticket Number\n",
    " - `Fare` => Passenger Fare (British pound)\n",
    " - `Cabin` => Cabin Number\n",
    " - `Embarked` => Port of Embarkation (C = Cherbourg; Q = Queenstown; S = Southampton)"
   ]
  },
  {
   "cell_type": "code",
   "execution_count": 3,
   "metadata": {},
   "outputs": [
    {
     "data": {
      "text/plain": [
       "(891, 12)"
      ]
     },
     "execution_count": 3,
     "metadata": {},
     "output_type": "execute_result"
    }
   ],
   "source": [
    "df.shape"
   ]
  },
  {
   "cell_type": "markdown",
   "metadata": {},
   "source": [
    "There seem to be a total of `891` passengers listed in this dataset set."
   ]
  },
  {
   "cell_type": "code",
   "execution_count": 4,
   "metadata": {},
   "outputs": [
    {
     "name": "stdout",
     "output_type": "stream",
     "text": [
      "<class 'pandas.core.frame.DataFrame'>\n",
      "RangeIndex: 891 entries, 0 to 890\n",
      "Data columns (total 12 columns):\n",
      " #   Column       Non-Null Count  Dtype  \n",
      "---  ------       --------------  -----  \n",
      " 0   PassengerId  891 non-null    int64  \n",
      " 1   Survived     891 non-null    int64  \n",
      " 2   Pclass       891 non-null    int64  \n",
      " 3   Name         891 non-null    object \n",
      " 4   Sex          891 non-null    object \n",
      " 5   Age          714 non-null    float64\n",
      " 6   SibSp        891 non-null    int64  \n",
      " 7   Parch        891 non-null    int64  \n",
      " 8   Ticket       891 non-null    object \n",
      " 9   Fare         891 non-null    float64\n",
      " 10  Cabin        204 non-null    object \n",
      " 11  Embarked     889 non-null    object \n",
      "dtypes: float64(2), int64(5), object(5)\n",
      "memory usage: 83.7+ KB\n"
     ]
    }
   ],
   "source": [
    "df.info()"
   ]
  },
  {
   "cell_type": "markdown",
   "metadata": {},
   "source": [
    "Based on this new information we should probably transform the data to make it more understandable.\n",
    "\n",
    "- `PassengerId` is a unique identifier for each passenger and does not provide any useful information for our analysis. We can drop this column.\n",
    "- `Name` can be dropped as well as it does not provide any useful information for our analysis.\n",
    "- `Ticket` can be dropped as well as it does not provide any useful information for our analysis.\n",
    "- `Sex` can be transformed into either 0 or 1 for male and female respectively.\n",
    "- `Sex` and `Embarked` can be transformed into categories"
   ]
  },
  {
   "cell_type": "code",
   "execution_count": 5,
   "metadata": {},
   "outputs": [],
   "source": [
    "df.drop(columns=['PassengerId', 'Name', 'Ticket'], inplace=True)\n",
    "df['Sex'] = df['Sex'].map({'male': 0, 'female': 1})\n",
    "\n",
    "for col in ['Sex','Embarked']:\n",
    "    df[col] = df[col].astype('category')"
   ]
  },
  {
   "cell_type": "markdown",
   "metadata": {},
   "source": [
    "Moreover, the above reveals that a there are missing values in the `Age`, `Cabin` and `Embarked` columns.\n",
    "\n",
    "In order to have a better visual understanding lets plot a heatmap to see the missing values."
   ]
  },
  {
   "cell_type": "code",
   "execution_count": 6,
   "metadata": {},
   "outputs": [
    {
     "data": {
      "image/png": "[encoded data removed]",
      "text/plain": [
       "<Figure size 2000x600 with 1 Axes>"
      ]
     },
     "metadata": {},
     "output_type": "display_data"
    }
   ],
   "source": [
    "plt.figure(figsize=(20, 6))\n",
    "sns.heatmap(df[['Age', 'Cabin', 'Embarked']].isnull().T, cbar=False, cmap='Reds', xticklabels=False)\n",
    "plt.title('Missing Data', fontsize=16)\n",
    "plt.show()"
   ]
  },
  {
   "cell_type": "code",
   "execution_count": 7,
   "metadata": {},
   "outputs": [
    {
     "name": "stdout",
     "output_type": "stream",
     "text": [
      "Percentage of missing values in 'Age' column: 19.87%\n",
      "Percentage of missing values in 'Cabin' column: 77.10%\n",
      "Percentage of missing values in 'Embarked' column: 0.22%\n"
     ]
    }
   ],
   "source": [
    "def print_missing_values_percentage(df: pd.DataFrame, columns: List[str]) -> None:\n",
    "    \"\"\"\n",
    "    Prints the percentage of missing values for specified columns in a DataFrame.\n",
    "\n",
    "    :param df: The pandas DataFrame to analyze.\n",
    "    :param columns: A list of column names to check for missing values.\n",
    "    \"\"\"\n",
    "    for column in columns:\n",
    "        if column in df.columns:\n",
    "            missing_percentage = df[column].isna().sum() / df[column].shape[0]\n",
    "            print(f\"Percentage of missing values in '{column}' column: {missing_percentage:.2%}\")\n",
    "        else:\n",
    "            print(f\"Column '{column}' does not exist in the DataFrame.\")\n",
    "\n",
    "print_missing_values_percentage(df, ['Age', 'Cabin', 'Embarked'])"
   ]
  },
  {
   "cell_type": "markdown",
   "metadata": {},
   "source": [
    "The `Age` variable has approximately 19.87% missing values, which is a manageable proportion for \"data imputation\" using values derived from other columns.\\\n",
    "The `Embarked` variable has only 0.22% missing values (two data points), which is negligible and can be safely dropped without significantly impacting the analysis.\n",
    "\n",
    "In contrast, the `Cabin` column has too much missing data to be effectively used in its current form, hence it will be dropped."
   ]
  },
  {
   "cell_type": "code",
   "execution_count": 8,
   "metadata": {},
   "outputs": [
    {
     "name": "stdout",
     "output_type": "stream",
     "text": [
      "Now we 'only' have 889 data points left.\n"
     ]
    }
   ],
   "source": [
    "df.drop(columns=['Cabin'], inplace=True)\n",
    "df.dropna(subset=['Embarked'], inplace=True)\n",
    "print(f\"Now we 'only' have {df.shape[0]} data points left.\")"
   ]
  },
  {
   "cell_type": "markdown",
   "metadata": {},
   "source": [
    "### Data Imputation"
   ]
  },
  {
   "cell_type": "markdown",
   "metadata": {},
   "source": [
    "I want to investigate a better approach for filling the missing values in the `Age` variable, rather than simply using the overall average (global mean).\n",
    "\n",
    "My hypothesis is that `Age` is strongly influenced by Passenger Class `Pclass` and `Sex`.\\\n",
    "The reasoning behind this is that 1st class passengers, being generally wealthier during that time, were likely older compared to those in 3rd class.\\\n",
    "Additionally, women might have tended to be younger than their male counterparts.\n",
    "\n",
    "To validate this assumption, I'll analyze the data and see if it holds true."
   ]
  },
  {
   "cell_type": "code",
   "execution_count": 9,
   "metadata": {},
   "outputs": [
    {
     "data": {
      "image/png": "[encoded data removed]",
      "text/plain": [
       "<Figure size 1500x700 with 2 Axes>"
      ]
     },
     "metadata": {},
     "output_type": "display_data"
    }
   ],
   "source": [
    "fig, axes = plt.subplots(1, 2, figsize=(15, 7))\n",
    "\n",
    "sns.boxplot(x='Pclass', y='Age', data=df, palette='GnBu_d', ax=axes[0])\n",
    "axes[0].set_title('Overall Age by Passenger Class')\n",
    "axes[0].set_xlabel('Passenger Class')\n",
    "\n",
    "sns.boxplot(x='Pclass', y='Age', hue='Sex', data=df, palette='GnBu_d', ax=axes[1])\n",
    "axes[1].set_title('Age by Passenger Class and Sex')\n",
    "axes[1].set_xlabel('Passenger Class')\n",
    "axes[1].legend(title='Sex')\n",
    "\n",
    "plt.tight_layout()\n",
    "plt.show()"
   ]
  },
  {
   "cell_type": "markdown",
   "metadata": {},
   "source": [
    "The left plot shows the **overall age distribution** among the passenger classes.\\\n",
    "The box plot reveals a larger interquartile range (IQR) suggesting that 1st class passengers had a broader spread of older ages.\\\n",
    "Most first class passengers where between 27 and 49 years old, while second and third class passengers were younger.\\\n",
    "However, we have more outliers indicated by the box plots for the second a third class passengers.\n",
    "\n",
    "The right plot shows the **age distribution** among the passenger classes **separated by sex**.\n",
    "The box plot reveals that **women were indeed younger than men** across all passenger classes.\n",
    "\n",
    "The data and visualizations strongly support the hypothesis, hence let's build an imputation method that takes this into account."
   ]
  },
  {
   "cell_type": "code",
   "execution_count": 10,
   "metadata": {},
   "outputs": [
    {
     "data": {
      "text/plain": [
       "{1: {0: 41.0, 1: 34.0}, 2: {0: 31.0, 1: 29.0}, 3: {0: 27.0, 1: 22.0}}"
      ]
     },
     "execution_count": 10,
     "metadata": {},
     "output_type": "execute_result"
    }
   ],
   "source": [
    "# Pre-computed dictionary containing mean ages rounded by Sex and Pclass\n",
    "MEAN_AGE_BY_PCLASS_AND_SEX_ROUNDED: Dict[str, Dict[int, float]] = (\n",
    "    df.groupby(['Sex', 'Pclass'])['Age']\n",
    "    .mean()\n",
    "    .round()\n",
    "    .unstack()\n",
    "    .to_dict()\n",
    ") # type: ignore\n",
    "MEAN_AGE_BY_PCLASS_AND_SEX_ROUNDED"
   ]
  },
  {
   "cell_type": "markdown",
   "metadata": {},
   "source": [
    "Let's impute the `Age` by the above values for 1-3 class passengers by sex (0 or 1)."
   ]
  },
  {
   "cell_type": "code",
   "execution_count": 11,
   "metadata": {},
   "outputs": [],
   "source": [
    "def impute_age(row: pd.Series) -> Union[float, None]:\n",
    "    \"\"\"\n",
    "    Impute missing age based on the mean age for the corresponding Sex and Passenger Class (Pclass).\n",
    "\n",
    "    Parameters:\n",
    "        row (pd.Series): A row of the DataFrame containing 'Age', 'Pclass', and 'Sex'.\n",
    "\n",
    "    Returns:\n",
    "        float: The imputed age if missing.\n",
    "        None: Returns None if 'Sex' or 'Pclass' is invalid or not in the precomputed dictionary.\n",
    "    \"\"\"\n",
    "    age = row['Age']\n",
    "    sex = row['Sex']\n",
    "    pclass = row['Pclass']\n",
    "    \n",
    "    if pd.notnull(age):\n",
    "        return age\n",
    "\n",
    "    # Validate input before attempting to retrieve mean age\n",
    "    if pclass not in MEAN_AGE_BY_PCLASS_AND_SEX_ROUNDED:\n",
    "        raise ValueError(\n",
    "            f\"Invalid Pclass value '{pclass}'. Allowed values: {list(MEAN_AGE_BY_PCLASS_AND_SEX_ROUNDED.keys())}\"\n",
    "        )\n",
    "    \n",
    "    if sex not in MEAN_AGE_BY_PCLASS_AND_SEX_ROUNDED[pclass]:\n",
    "        raise ValueError(\n",
    "            f\"Invalid Sex value '{sex}' for Pclass '{pclass}'. Allowed values: {list(MEAN_AGE_BY_PCLASS_AND_SEX_ROUNDED[pclass].keys())}\"\n",
    "        )\n",
    "    \n",
    "    return MEAN_AGE_BY_PCLASS_AND_SEX_ROUNDED[pclass][sex]\n",
    "\n",
    "df['Age'] = df.apply(impute_age, axis=1)"
   ]
  },
  {
   "cell_type": "code",
   "execution_count": 12,
   "metadata": {},
   "outputs": [
    {
     "data": {
      "text/plain": [
       "Survived    0\n",
       "Pclass      0\n",
       "Sex         0\n",
       "Age         0\n",
       "SibSp       0\n",
       "Parch       0\n",
       "Fare        0\n",
       "Embarked    0\n",
       "dtype: int64"
      ]
     },
     "execution_count": 12,
     "metadata": {},
     "output_type": "execute_result"
    }
   ],
   "source": [
    "df.isna().sum()"
   ]
  },
  {
   "cell_type": "markdown",
   "metadata": {},
   "source": [
    "We have successfully imputed all missing values now."
   ]
  },
  {
   "cell_type": "markdown",
   "metadata": {},
   "source": [
    "## Exploratory Data Analysis"
   ]
  },
  {
   "cell_type": "markdown",
   "metadata": {},
   "source": []
  }
 ],
 "metadata": {
  "kernelspec": {
   "display_name": ".venv",
   "language": "python",
   "name": "python3"
  },
  "language_info": {
   "codemirror_mode": {
    "name": "ipython",
    "version": 3
   },
   "file_extension": ".py",
   "mimetype": "text/x-python",
   "name": "python",
   "nbconvert_exporter": "python",
   "pygments_lexer": "ipython3",
   "version": "3.11.10"
  }
 },
 "nbformat": 4,
 "nbformat_minor": 2
}
